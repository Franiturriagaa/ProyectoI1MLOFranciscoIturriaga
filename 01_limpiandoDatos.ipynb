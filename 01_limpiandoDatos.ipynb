{
 "cells": [
  {
   "cell_type": "code",
   "execution_count": 1,
   "id": "e6831b5b",
   "metadata": {},
   "outputs": [],
   "source": [
    "# Importo librerias necesarias\n",
    "import pandas as pd\n",
    "import ast"
   ]
  },
  {
   "cell_type": "code",
   "execution_count": 2,
   "id": "4edbbcfc",
   "metadata": {},
   "outputs": [],
   "source": [
    "# Cargo el DataFrame, empiezo limpiando el movies_dataset.csv\n",
    "df = pd.read_csv('movies_dataset.csv',sep=',',dtype={10: 'str'})\n"
   ]
  },
  {
   "cell_type": "code",
   "execution_count": 3,
   "id": "1585dce3",
   "metadata": {},
   "outputs": [],
   "source": [
    "# Elimino campos como belongs_to_collection y production_companies\n",
    "df.drop(columns=['belongs_to_collection', 'production_companies'], inplace=True)"
   ]
  },
  {
   "cell_type": "code",
   "execution_count": 4,
   "id": "588eb832",
   "metadata": {},
   "outputs": [
    {
     "name": "stderr",
     "output_type": "stream",
     "text": [
      "C:\\Users\\frank\\AppData\\Local\\Temp\\ipykernel_4880\\3920921123.py:2: FutureWarning: A value is trying to be set on a copy of a DataFrame or Series through chained assignment using an inplace method.\n",
      "The behavior will change in pandas 3.0. This inplace method will never work because the intermediate object on which we are setting values always behaves as a copy.\n",
      "\n",
      "For example, when doing 'df[col].method(value, inplace=True)', try using 'df.method({col: value}, inplace=True)' or df[col] = df[col].method(value) instead, to perform the operation inplace on the original object.\n",
      "\n",
      "\n",
      "  df['revenue'].fillna(0, inplace=True)\n",
      "C:\\Users\\frank\\AppData\\Local\\Temp\\ipykernel_4880\\3920921123.py:3: FutureWarning: A value is trying to be set on a copy of a DataFrame or Series through chained assignment using an inplace method.\n",
      "The behavior will change in pandas 3.0. This inplace method will never work because the intermediate object on which we are setting values always behaves as a copy.\n",
      "\n",
      "For example, when doing 'df[col].method(value, inplace=True)', try using 'df.method({col: value}, inplace=True)' or df[col] = df[col].method(value) instead, to perform the operation inplace on the original object.\n",
      "\n",
      "\n",
      "  df['budget'].fillna(0, inplace=True)\n"
     ]
    }
   ],
   "source": [
    "# Reemplazo valores nulos en revenue y budget con 0\n",
    "df['revenue'].fillna(0, inplace=True)\n",
    "df['budget'].fillna(0, inplace=True)"
   ]
  },
  {
   "cell_type": "code",
   "execution_count": 5,
   "id": "2e7d5d0d",
   "metadata": {},
   "outputs": [],
   "source": [
    "# Elimino valores nulos en release_date\n",
    "df.dropna(subset=['release_date'], inplace=True)"
   ]
  },
  {
   "cell_type": "code",
   "execution_count": 6,
   "id": "9ef2ddfb",
   "metadata": {},
   "outputs": [],
   "source": [
    "# Estandarizo el formato de fechas a AAAA-mm-dd y creo la columna release_year\n",
    "df['release_date'] = pd.to_datetime(df['release_date'], errors='coerce')\n",
    "df['release_year'] = df['release_date'].dt.year"
   ]
  },
  {
   "cell_type": "code",
   "execution_count": 8,
   "id": "5281bfa1",
   "metadata": {},
   "outputs": [],
   "source": [
    "# Paso revenue y budget a tipo numérico\n",
    "df['revenue'] = pd.to_numeric(df['revenue'], errors='coerce').fillna(0)\n",
    "df['budget'] = pd.to_numeric(df['budget'], errors='coerce').fillna(0)"
   ]
  },
  {
   "cell_type": "code",
   "execution_count": 9,
   "id": "93f8fdd3",
   "metadata": {},
   "outputs": [
    {
     "name": "stderr",
     "output_type": "stream",
     "text": [
      "C:\\Users\\frank\\AppData\\Local\\Temp\\ipykernel_4880\\998246397.py:9: FutureWarning: A value is trying to be set on a copy of a DataFrame or Series through chained assignment using an inplace method.\n",
      "The behavior will change in pandas 3.0. This inplace method will never work because the intermediate object on which we are setting values always behaves as a copy.\n",
      "\n",
      "For example, when doing 'df[col].method(value, inplace=True)', try using 'df.method({col: value}, inplace=True)' or df[col] = df[col].method(value) instead, to perform the operation inplace on the original object.\n",
      "\n",
      "\n",
      "  df['budget'].fillna(0, inplace=True)\n",
      "C:\\Users\\frank\\AppData\\Local\\Temp\\ipykernel_4880\\998246397.py:10: FutureWarning: A value is trying to be set on a copy of a DataFrame or Series through chained assignment using an inplace method.\n",
      "The behavior will change in pandas 3.0. This inplace method will never work because the intermediate object on which we are setting values always behaves as a copy.\n",
      "\n",
      "For example, when doing 'df[col].method(value, inplace=True)', try using 'df.method({col: value}, inplace=True)' or df[col] = df[col].method(value) instead, to perform the operation inplace on the original object.\n",
      "\n",
      "\n",
      "  df['revenue'].fillna(0, inplace=True)\n"
     ]
    }
   ],
   "source": [
    "# Creo la columa return calculando el retorno de inversion como revenue / budget\n",
    "df['return'] = df.apply(lambda row: row['revenue'] / row['budget'] if row['budget'] > 0 else 0, axis=1)\n",
    "\n",
    "# Convertir las columnas 'budget' y 'revenue' a numéricas, reemplazando no convertibles con NaN\n",
    "df['budget'] = pd.to_numeric(df['budget'], errors='coerce')\n",
    "df['revenue'] = pd.to_numeric(df['revenue'], errors='coerce')\n",
    "\n",
    "# Reemplazo NaN con 0\n",
    "df['budget'].fillna(0, inplace=True)\n",
    "df['revenue'].fillna(0, inplace=True)\n",
    "\n",
    "# Creo la columna 'return' calculando el retorno de inversión\n",
    "df['return'] = df.apply(lambda row: row['revenue'] / row['budget'] if row['budget'] > 0 else 0, axis=1)\n"
   ]
  },
  {
   "cell_type": "code",
   "execution_count": 10,
   "id": "d0b92c7f",
   "metadata": {},
   "outputs": [
    {
     "name": "stdout",
     "output_type": "stream",
     "text": [
      "Index(['adult', 'budget', 'genres', 'homepage', 'id', 'imdb_id',\n",
      "       'original_language', 'original_title', 'overview', 'popularity',\n",
      "       'poster_path', 'production_countries', 'release_date', 'revenue',\n",
      "       'runtime', 'spoken_languages', 'status', 'tagline', 'title', 'video',\n",
      "       'vote_average', 'vote_count', 'release_year', 'return'],\n",
      "      dtype='object')\n"
     ]
    }
   ],
   "source": [
    "# Muestro las columnas del DataFrame\n",
    "print(df.columns)\n"
   ]
  },
  {
   "cell_type": "code",
   "execution_count": 11,
   "id": "b0214807",
   "metadata": {},
   "outputs": [],
   "source": [
    "# Elimino columnas innecesarias\n",
    "columns_to_drop = ['video', 'imdb_id', 'adult', 'original_title', 'poster_path', 'homepage']\n",
    "df.drop(columns=columns_to_drop, inplace=True,errors='ignore')"
   ]
  },
  {
   "cell_type": "code",
   "execution_count": 12,
   "id": "611868d1",
   "metadata": {},
   "outputs": [
    {
     "name": "stdout",
     "output_type": "stream",
     "text": [
      "Index(['budget', 'genres', 'id', 'original_language', 'overview', 'popularity',\n",
      "       'production_countries', 'release_date', 'revenue', 'runtime',\n",
      "       'spoken_languages', 'status', 'tagline', 'title', 'vote_average',\n",
      "       'vote_count', 'release_year', 'return'],\n",
      "      dtype='object')\n"
     ]
    }
   ],
   "source": [
    "print(df.columns)"
   ]
  },
  {
   "cell_type": "code",
   "execution_count": 15,
   "id": "dc457c1b",
   "metadata": {},
   "outputs": [],
   "source": [
    "# Guardo el df en un nuevo archivo\n",
    "df.to_csv('dataset_transformado.csv', index=False)\n",
    "#df.to_parquet('dataset_transformado.parquet', index=False)\n"
   ]
  },
  {
   "cell_type": "code",
   "execution_count": 17,
   "id": "0ba4ca68",
   "metadata": {},
   "outputs": [
    {
     "name": "stdout",
     "output_type": "stream",
     "text": [
      "Columna eliminada y archivo guardado como 'credits_sin_columna.csv'.\n"
     ]
    }
   ],
   "source": [
    "#Ahora limpiare Credits.csv creando un creditscast y un creditscrew por separado\n",
    "df = pd.read_csv('credits.csv')\n",
    "\n",
    "# Elimino las columnas crew e id\n",
    "df.drop(columns=['crew','id'], inplace=True)\n",
    "\n",
    "# Guardo el archivo CSV actualizado\n",
    "df.to_csv('creditscast.csv', index=False)\n",
    "\n",
    "print(\"Columna eliminada y archivo guardado como 'credits_sin_columna.csv'.\")"
   ]
  },
  {
   "cell_type": "code",
   "execution_count": 18,
   "id": "78e23e4a",
   "metadata": {},
   "outputs": [
    {
     "name": "stdout",
     "output_type": "stream",
     "text": [
      "Columna eliminada y archivo guardado como 'credits_sin_columna.csv'.\n"
     ]
    }
   ],
   "source": [
    "df = pd.read_csv('credits.csv')\n",
    "\n",
    "# Elimino la columna especificada\n",
    "df.drop(columns=['cast','id'], inplace=True)\n",
    "\n",
    "# Guardo el archivo CSV actualizado\n",
    "df.to_csv('creditscrew.csv', index=False)\n",
    "\n",
    "print(\"Columna eliminada y archivo guardado como 'credits_sin_columna.csv'.\")"
   ]
  },
  {
   "cell_type": "code",
   "execution_count": 20,
   "id": "359c6168",
   "metadata": {},
   "outputs": [],
   "source": [
    "# Ahora convertire estos CSV pesados en archivos parquet, primero los leo\n",
    "df = pd.read_csv('creditscast.csv')\n",
    "df1 = pd.read_csv('creditscrew.csv')\n",
    "# Transformo a parquet\n",
    "df.to_parquet('creditscast.parquet', index=False)\n",
    "df1.to_parquet('creditscrew.parquet', index=False)\n"
   ]
  },
  {
   "cell_type": "code",
   "execution_count": null,
   "id": "71a54584",
   "metadata": {},
   "outputs": [],
   "source": []
  }
 ],
 "metadata": {
  "jupytext": {
   "cell_metadata_filter": "-all",
   "main_language": "python",
   "notebook_metadata_filter": "-all"
  },
  "kernelspec": {
   "display_name": "Python 3",
   "language": "python",
   "name": "python3"
  },
  "language_info": {
   "codemirror_mode": {
    "name": "ipython",
    "version": 3
   },
   "file_extension": ".py",
   "mimetype": "text/x-python",
   "name": "python",
   "nbconvert_exporter": "python",
   "pygments_lexer": "ipython3",
   "version": "3.12.4"
  }
 },
 "nbformat": 4,
 "nbformat_minor": 5
}
